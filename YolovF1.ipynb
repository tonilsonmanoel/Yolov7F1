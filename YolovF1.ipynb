{
  "cells": [
    {
      "cell_type": "markdown",
      "metadata": {
        "id": "view-in-github",
        "colab_type": "text"
      },
      "source": [
        "<a href=\"https://colab.research.google.com/github/tonilsonmanoel/Yolov7F1/blob/main/YolovF1.ipynb\" target=\"_parent\"><img src=\"https://colab.research.google.com/assets/colab-badge.svg\" alt=\"Open In Colab\"/></a>"
      ]
    },
    {
      "cell_type": "code",
      "execution_count": null,
      "metadata": {
        "id": "VywgsBPbJi2P"
      },
      "outputs": [],
      "source": [
        "from google.colab import drive\n",
        "drive.mount(\"/content/gdrive\")"
      ]
    },
    {
      "cell_type": "code",
      "execution_count": 2,
      "metadata": {
        "id": "uaOoyK8uPCR2",
        "outputId": "80223fc9-3fdc-4d52-d12e-6ed150cebb64",
        "colab": {
          "base_uri": "https://localhost:8080/",
          "height": 35
        }
      },
      "outputs": [
        {
          "output_type": "execute_result",
          "data": {
            "text/plain": [
              "'6.0'"
            ],
            "application/vnd.google.colaboratory.intrinsic+json": {
              "type": "string"
            }
          },
          "metadata": {},
          "execution_count": 2
        }
      ],
      "source": [
        "import yaml\n",
        "\n",
        "yaml.__version__"
      ]
    },
    {
      "cell_type": "code",
      "execution_count": null,
      "metadata": {
        "id": "apkuL0qTPvZt"
      },
      "outputs": [],
      "source": [
        "!pip install --upgrade pyyaml==5.3.1"
      ]
    },
    {
      "cell_type": "code",
      "execution_count": null,
      "metadata": {
        "id": "3vw37G55LO6W"
      },
      "outputs": [],
      "source": [
        "%cd /content/gdrive/MyDrive"
      ]
    },
    {
      "cell_type": "markdown",
      "metadata": {
        "id": "AAPR8EpaLUC5"
      },
      "source": [
        "Clone repositorio"
      ]
    },
    {
      "cell_type": "code",
      "execution_count": null,
      "metadata": {
        "id": "H5TrdhgLLgx2"
      },
      "outputs": [],
      "source": [
        "!pwd"
      ]
    },
    {
      "cell_type": "code",
      "execution_count": 3,
      "metadata": {
        "id": "bbHGh0dWLt0G",
        "outputId": "f271a2f3-1016-489c-a25a-76509553678b",
        "colab": {
          "base_uri": "https://localhost:8080/"
        }
      },
      "outputs": [
        {
          "output_type": "stream",
          "name": "stdout",
          "text": [
            "Cloning into 'Yolov7F1'...\n",
            "remote: Enumerating objects: 173, done.\u001b[K\n",
            "remote: Counting objects: 100% (6/6), done.\u001b[K\n",
            "remote: Compressing objects: 100% (6/6), done.\u001b[K\n",
            "remote: Total 173 (delta 1), reused 2 (delta 0), pack-reused 167\u001b[K\n",
            "Receiving objects: 100% (173/173), 172.83 MiB | 16.55 MiB/s, done.\n",
            "Resolving deltas: 100% (27/27), done.\n"
          ]
        }
      ],
      "source": [
        "!git clone https://github.com/tonilsonmanoel/Yolov7F1.git"
      ]
    },
    {
      "cell_type": "markdown",
      "metadata": {
        "id": "VWaZQ5MwN6PX"
      },
      "source": [
        "Ir Para Diretorio yolov7-F1"
      ]
    },
    {
      "cell_type": "code",
      "execution_count": 5,
      "metadata": {
        "id": "NL01PdW6N89k",
        "outputId": "964fa019-9ca2-4e8e-9285-f3bd95a4c11c",
        "colab": {
          "base_uri": "https://localhost:8080/"
        }
      },
      "outputs": [
        {
          "output_type": "stream",
          "name": "stdout",
          "text": [
            "/content\n"
          ]
        }
      ],
      "source": [
        "!pwd"
      ]
    },
    {
      "cell_type": "code",
      "execution_count": 12,
      "metadata": {
        "id": "PWHA55x6ODyl",
        "outputId": "ca437710-aa3e-4a13-8834-1766c2702841",
        "colab": {
          "base_uri": "https://localhost:8080/"
        }
      },
      "outputs": [
        {
          "output_type": "stream",
          "name": "stdout",
          "text": [
            "/content/Yolov7F1/yolov7-F1\n"
          ]
        }
      ],
      "source": [
        "%cd Yolov7F1/yolov7-F1"
      ]
    },
    {
      "cell_type": "markdown",
      "metadata": {
        "id": "BJWJquIN2DRV"
      },
      "source": [
        "Execução Do treinamento da IA Yolov7"
      ]
    },
    {
      "cell_type": "code",
      "execution_count": null,
      "metadata": {
        "id": "v_0w5gKoQZBk"
      },
      "outputs": [],
      "source": [
        "!python train.py --device 0 --batch-size 20 --epochs 300 --img 640 640 --data data/custom-data.yaml --hyp data/hyp.scratch.custom.yaml --cfg cfg/training/yolov7-custom.yaml --weights yolov7.pt --name yolov7-custom"
      ]
    },
    {
      "cell_type": "markdown",
      "metadata": {
        "id": "749RQ5E8eHHF"
      },
      "source": [
        "Execução Detect Img ou Video"
      ]
    },
    {
      "cell_type": "code",
      "execution_count": null,
      "metadata": {
        "id": "3vebtC6vZAc_"
      },
      "outputs": [],
      "source": [
        "!python detect.py --weights f1.pt --conf 0.25 --img-size 640 --source video6.mp4"
      ]
    },
    {
      "cell_type": "code",
      "execution_count": null,
      "metadata": {
        "id": "_QJedBoDbBXQ"
      },
      "outputs": [],
      "source": [
        "!python detect.py --weights f1.pt --conf 0.25 --img-size 640 --source img2.jpg"
      ]
    }
  ],
  "metadata": {
    "accelerator": "GPU",
    "colab": {
      "collapsed_sections": [],
      "provenance": [],
      "include_colab_link": true
    },
    "gpuClass": "standard",
    "kernelspec": {
      "display_name": "Python 3",
      "name": "python3"
    },
    "language_info": {
      "name": "python"
    }
  },
  "nbformat": 4,
  "nbformat_minor": 0
}